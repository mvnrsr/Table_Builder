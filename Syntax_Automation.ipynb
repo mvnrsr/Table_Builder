{
 "cells": [
  {
   "cell_type": "code",
   "execution_count": null,
   "id": "14154b51-6cad-476d-bdd2-0cb4eccfe0ca",
   "metadata": {
    "tags": []
   },
   "outputs": [],
   "source": [
    "import pandas as pd\n",
    "import os\n",
    "\n",
    "# print(os.getcwd())\n",
    "\n",
    "# Assuming you have an Excel file named 'your_file.xlsx' and the sheet is named 'Tab_Specs'\n",
    "df = pd.read_excel('SYNTAX_TOOL.xlsx', sheet_name='Tab_Specs')"
   ]
  },
  {
   "cell_type": "code",
   "execution_count": null,
   "id": "427b66d5-16ea-4718-ba7a-06be05e77177",
   "metadata": {
    "tags": []
   },
   "outputs": [],
   "source": [
    "def parse_var_name_absolute_pattern(var_name):\n",
    "    # Initialize empty list to hold loop levels and default actual_question\n",
    "    loop_levels = []\n",
    "    actual_question = None\n",
    "\n",
    "    # Check if var_name is a string\n",
    "    if isinstance(var_name, str):\n",
    "        # Splitting by '[..].' to separate loop levels and the actual question\n",
    "        components = var_name.split('[..].')\n",
    "        \n",
    "        # Extract actual question (last component)\n",
    "        actual_question = components[-1]\n",
    "        \n",
    "        # Loop through components to find loop levels\n",
    "        for comp in components[:-1]:\n",
    "            loop_levels.append(comp)\n",
    "    \n",
    "    # Return tuple of loop levels and actual question\n",
    "    return loop_levels, actual_question\n",
    "\n",
    "# Apply the corrected function to the Var_name column\n",
    "df['Parsed_Info_Absolute'] = df['Var_name'].apply(parse_var_name_absolute_pattern)\n"
   ]
  },
  {
   "cell_type": "code",
   "execution_count": null,
   "id": "28d31546-53cc-4f0b-b6b8-bd965050c049",
   "metadata": {
    "tags": []
   },
   "outputs": [],
   "source": [
    "# Method to determine if a variable is a loop or not based on the parsed information\n",
    "def is_loop(parsed_info):\n",
    "    loop_levels, _ = parsed_info\n",
    "    return True if len(loop_levels) > 0 else False\n",
    "\n",
    "# Apply the is_loop method to create a new column indicating if a variable is a loop or not\n",
    "df['Is_Loop'] = df['Parsed_Info_Absolute'].apply(is_loop)\n"
   ]
  },
  {
   "cell_type": "code",
   "execution_count": null,
   "id": "f696318b-a45c-41aa-a8a6-35d29fa5196f",
   "metadata": {
    "tags": []
   },
   "outputs": [],
   "source": [
    "# Method to update the 'Grid' column based on the 'Is_Loop' column\n",
    "def update_grid(row):\n",
    "    if row['Is_Loop']:\n",
    "        return 'x'\n",
    "    else:\n",
    "        return row['Grid']\n",
    "\n",
    "# Apply the update_grid method to update the 'Grid' column\n",
    "df['Grid'] = df.apply(update_grid, axis=1)\n",
    "\n",
    "# Display the updated DataFrame\n",
    "# df.head()\n"
   ]
  },
  {
   "cell_type": "code",
   "execution_count": null,
   "id": "97c7583a-8a72-4e2b-b8f0-fe5e6d7a85f4",
   "metadata": {
    "tags": []
   },
   "outputs": [],
   "source": [
    "# Create new columns for each loop level based on the 'Parsed_Info_Absolute' column\n",
    "def extract_loop_levels(row):\n",
    "    loop_levels = row['Parsed_Info_Absolute'][0]\n",
    "    for i, level in enumerate(loop_levels, 1):\n",
    "        row[f'Loop_Header{i}'] = level\n",
    "    return row\n",
    "\n",
    "df = df.apply(extract_loop_levels, axis=1)"
   ]
  },
  {
   "cell_type": "code",
   "execution_count": null,
   "id": "aa971426-c9d2-46fa-9a30-a49166ca7adf",
   "metadata": {
    "tags": []
   },
   "outputs": [],
   "source": [
    "print(df.columns)"
   ]
  },
  {
   "cell_type": "code",
   "execution_count": null,
   "id": "cd34e184-c129-4a6e-bfbb-2a1bd48e20fb",
   "metadata": {
    "tags": []
   },
   "outputs": [],
   "source": [
    "# Filter DataFrame for loop variables\n",
    "filtered_df = df[df['Is_Loop'] == True]\n",
    "\n",
    "# Select specific columns\n",
    "filtered_df = filtered_df[['Var_name', 'QN_No', 'Parsed_Info_Absolute', 'Loop_Header1', 'Loop_Header2', 'Loop_Header3','Is_Loop']]\n",
    "filtered_df.head(15)"
   ]
  },
  {
   "cell_type": "code",
   "execution_count": null,
   "id": "79611536-23fe-470e-9210-8c52b248f443",
   "metadata": {
    "tags": []
   },
   "outputs": [],
   "source": []
  },
  {
   "cell_type": "code",
   "execution_count": null,
   "id": "d77ed6d9-bfe9-4da0-aa62-8eaac2bc84bc",
   "metadata": {
    "tags": []
   },
   "outputs": [],
   "source": [
    "def determine_loop_variables(row):\n",
    "    parsed_info = row['Parsed_Info_Absolute']\n",
    "    loop_headers = parsed_info[0]\n",
    "    loop_var_name = None\n",
    "    loop_slice_name = parsed_info[1]\n",
    "    \n",
    "    # Determine the main loop_var_name based on the number of elements in loop_headers\n",
    "    if row['Is_Loop'] == True:  # or use 'True' if it's a string\n",
    "        if len(loop_headers) == 1:\n",
    "            loop_var_name = loop_headers[0]\n",
    "        elif len(loop_headers) >= 2:\n",
    "            loop_var_name = loop_headers[-1]\n",
    "\n",
    "    return pd.Series([loop_var_name, loop_slice_name])"
   ]
  },
  {
   "cell_type": "code",
   "execution_count": null,
   "id": "9dd38f27-e966-4986-a78f-e0b35c6df7da",
   "metadata": {
    "tags": []
   },
   "outputs": [],
   "source": [
    "# Assuming df_loop is the DataFrame containing only loop variables\n",
    "\n",
    "# df[['Loop_Var_Name', 'Loop_Slice_Name']] = df.apply(determine_loop_variables, axis=1)\n",
    "# Using apply directly on DataFrame with axis=1\n",
    "df[['Loop_Var_Name', 'Loop_Slice_Name']] = df.apply(determine_loop_variables, axis=1)\n",
    "\n",
    "\n",
    "# Code would be applied like this, uncomment to use\n",
    "# df['Loop_Var_Name'], df['Loop_Slice_Name'] = zip(*df['Parsed_Info_Absolute'].apply(determine_loop_variables))"
   ]
  },
  {
   "cell_type": "code",
   "execution_count": null,
   "id": "f02b2040-a2d0-4a18-8470-5a0992d71230",
   "metadata": {
    "tags": []
   },
   "outputs": [],
   "source": [
    "print(df.columns)"
   ]
  },
  {
   "cell_type": "code",
   "execution_count": null,
   "id": "492c30e2-243a-487e-a645-5a749fd446cb",
   "metadata": {
    "tags": []
   },
   "outputs": [],
   "source": [
    "# Filter DataFrame for loop variables\n",
    "filtered_df = df[df['Is_Loop'] == True]\n",
    "\n",
    "# Select specific columns\n",
    "filtered_df = filtered_df[['Var_name', 'QN_No', 'Parsed_Info_Absolute', 'Loop_Header1', 'Loop_Header2', 'Loop_Header3','Loop_Var_Name','Loop_Slice_Name','Is_Loop']]\n",
    "filtered_df.head(30)"
   ]
  },
  {
   "cell_type": "code",
   "execution_count": null,
   "id": "e9417933-acf5-4d98-9d94-37e6e39bd963",
   "metadata": {
    "tags": []
   },
   "outputs": [],
   "source": [
    "# Filter DataFrame for loop variables\n",
    "filtered_df = df[df['Is_Loop'] == True]\n",
    "\n",
    "# Select specific columns\n",
    "filtered_df = filtered_df[['Var_name', 'QN_No', 'Parsed_Info_Absolute', 'Loop_Header1', 'Loop_Header2', 'Loop_Header3','Loop_Var_Name','Loop_Slice_Name','Is_Loop']]\n",
    "\n",
    "# Convert the DataFrame to a CSV string for preview\n",
    "csv_preview = filtered_df.head(15).to_csv(index=False)\n",
    "\n",
    "print(csv_preview)"
   ]
  },
  {
   "cell_type": "code",
   "execution_count": null,
   "id": "23475234-97ce-477e-b617-e52a69b557e1",
   "metadata": {
    "tags": [
     "generate_non_loop_syntax"
    ]
   },
   "outputs": [],
   "source": [
    "# Function to generate syntax for non-loop questions\n",
    "def generate_non_loop_syntax(row):\n",
    "    if not row['Is_Loop']:  # Check if it's not a loop\n",
    "        var_name = row['Var_name']\n",
    "        base_title = row['Base_title']\n",
    "        table_title = row['Table_Title']\n",
    "        qn_name = row['QN_No']\n",
    "        # return f\"'--- {var_name}\\n\\tfnAddTable(TableDoc,\\\"{var_name}\\\",banner,\\\"\\\",\\\"{base_title}\\\")\\n\\t.Item[.count-1].Rules.Addnew(0,0)\"\n",
    "        header = f\"'--- {var_name}\"\n",
    "        fn_add_table = f'\\tfnAddTable(TableDoc,\"{var_name}\",banner,\"({qn_name}) {table_title}\",\"{base_title}\")'\n",
    "        additional_line = '\\t.Item[.count-1].Rules.Addnew(0,0)'\n",
    "\n",
    "        return f\"{header}\\n{fn_add_table}\\n{additional_line}\"\n",
    "\n",
    "    return None  # Return None if it's a loop\n",
    "\n",
    "# Apply the function to generate syntax for non-loop questions\n",
    "df['Non_Loop_Syntax'] = df.apply(generate_non_loop_syntax, axis=1)\n",
    "\n",
    "# Filter and display only the non-loop rows to see the generated syntax\n",
    "# df[df['Is_Loop'] == False][['Var_name', 'Non_Loop_Syntax']].head()\n"
   ]
  },
  {
   "cell_type": "code",
   "execution_count": 40,
   "id": "733c283f-e630-45cc-8990-fdfc56588ddc",
   "metadata": {
    "tags": [
     "generate_non_loop_syntax"
    ]
   },
   "outputs": [],
   "source": [
    "# Function to generate syntax for non-loop questions\n",
    "def generate_non_loop_syntax_v2(row):\n",
    "    if not row['Is_Loop']:  # Check if it's not a loop\n",
    "        var_name = row['Var_name']\n",
    "        base_title = row['Base_title']\n",
    "        table_title = row['Table_Title']\n",
    "        qn_name = row['QN_No']\n",
    "\n",
    "        # Initialize each component of the 'fnAddTable' line\n",
    "        fnAddTable = '\\tfnAddTable(TableDoc,\"'\n",
    "        fnAddTable_axis_subtotal = f'{var_name}{{..,sigma \\'Total\\' subtotal()}}'\n",
    "        fnAddTable_axis_mean = f'{var_name}{{..,sigma \\'Total\\' subtotal(),mean \\'Mean\\' mean()}}'\n",
    "        fnAddTable_axis_avg_mention = f'{var_name}{{..,sigma \\'Total\\' subtotal(),mean \\'Average Num of Mentions\\' mean()}}'\n",
    "        fnAddTable_banner = '\",banner,\"'\n",
    "        fnAddTable_tab_title = f'({qn_name}) {table_title}'\n",
    "        fnAddTable_base = f'\",\"{base_title}\")'\n",
    "\n",
    "        # Concatenate all components to form the complete 'fnAddTable' line\n",
    "        fnAddTable_final = fn_add_table_start + var_with_subtotal + fn_add_table_middle + table_details + fn_add_table_end\n",
    "\n",
    "        # Add a new rule to the last item in the table\n",
    "        additional_line = '\\t.Item[.count-1].Rules.Addnew(0,0)'\n",
    "\n",
    "\n",
    "        return f\"{header}\\n{fnAddTable_final}\\n{additional_line}\"\n",
    "\n",
    "    return None  # Return None if it's a loop\n",
    "\n",
    "# Apply the function to generate syntax for non-loop questions\n",
    "df['Non_Loop_Syntax_v2'] = df.apply(generate_non_loop_syntax_v2, axis=1)\n",
    "\n",
    "# Filter and display only the non-loop rows to see the generated syntax\n",
    "# df[df['Is_Loop'] == False][['Var_name', 'Non_Loop_Syntax']].head()\n"
   ]
  },
  {
   "cell_type": "code",
   "execution_count": null,
   "id": "37c63cee-81b1-45b6-9009-7b90bcd30a58",
   "metadata": {
    "tags": []
   },
   "outputs": [],
   "source": [
    "# Function to generate table syntax for loop variables\n",
    "def generate_loop_syntax(row):\n",
    "    if row['Is_Loop']:  # Check if it's not a loop\n",
    "        var_name = row['Var_name']\n",
    "        qn_no = row['QN_No']\n",
    "        table_title = row['Table_Title']\n",
    "        base_title = row['Base_title']\n",
    "        loop_var_name = row['Loop_Var_Name']\n",
    "        loop_slice_name = row['Loop_Slice_Name']\n",
    "        loop_header1 = row['Loop_Header1']\n",
    "        loop_header2 = row['Loop_Header2']\n",
    "        is_loop = row['Is_Loop']\n",
    "\n",
    "        syntax = f\"'--- {var_name}\\n\"\n",
    "\n",
    "\n",
    "        # For 1-level loop\n",
    "        if loop_header2 is None:\n",
    "            syntax += f\"fnAddGrid(TableDoc,\\\"{loop_header1}[..].{loop_slice_name}\\\",\\\"{loop_header1}\\\",\\\"({qn_no}) {table_title}\\\",\\\"{base_title}\\\")\\n\"\n",
    "            syntax += f\"For each i in MDM.Fields[\\\"{loop_header1}\\\"].categories\\n\"\n",
    "            syntax += f\"\\tfnAddTable(TableDoc,\\\"{loop_header1}[{{\\\"+i.name+\\\"}}].{loop_slice_name}\\\",banner,\\\"({qn_no}) {table_title} - \\\" + i.label,\\\"{base_title}\\\")\\n\"\n",
    "            syntax += f\"\\t.Item[.count-1].Rules.Addnew(0,0)\\n\"\n",
    "            syntax += f\"next\\n\"\n",
    "\n",
    "        # For 2-level loop\n",
    "        elif loop_header2 is not None:\n",
    "            syntax += f\"fnAddGrid(TableDoc,\\\"{loop_header1}[..].{loop_header2}[..].{loop_slice_name}\\\",\\\"{loop_header1} > {loop_header1}[..].{loop_header2}\\\",\\\"({qn_no}) {table_title}\\\",\\\"{base_title}\\\")\\n\"\n",
    "            syntax += f\"For each i in MDM.Fields[\\\"{loop_header1}\\\"].categories\\n\"\n",
    "            syntax += f\"    For each j in MDM.Fields[\\\"{loop_header1}[{{\\\"+j.name+\\\"}}].{loop_header2}\\\"].categories\\n\"\n",
    "            syntax += f\"\\tfnAddTable(TableDoc,\\\"{loop_header1}[{{\\\"+i.name+\\\"}}].{loop_header2}[{{\\\"+j.name+\\\"}}].{loop_slice_name}\\\",banner,\\\"({qn_no}) {table_title} - \\\" + i.label + \\\" - \\\" + j.label,\\\"{base_title}\\\")\\n\"\n",
    "            syntax += f\"\\t.Item[.count-1].Rules.Addnew(0,0)\\n\"\n",
    "            syntax += f\"    next\\n\"\n",
    "            syntax += f\"next\\n\"\n",
    "\n",
    "        return syntax\n",
    "\n",
    "# Assuming df_loop is your DataFrame containing only the loop variables, this line applies the function.\n",
    "# Uncomment to use.\n",
    "df['Loop_Syntax'] = df.apply(generate_loop_syntax, axis=1)\n"
   ]
  },
  {
   "cell_type": "code",
   "execution_count": 33,
   "id": "ecc17099-405b-4f83-8b89-8b061d300cee",
   "metadata": {
    "tags": []
   },
   "outputs": [],
   "source": [
    "# Sample code to fix the issue with NaN loop_header being included in the syntax\n",
    "\n",
    "def generate_loop_syntax_fixed(row):\n",
    "\n",
    "    if row['Is_Loop']:  # Check if it's not a loop\n",
    "        var_name = row['Var_name']\n",
    "        qn_no = row['QN_No']\n",
    "        table_title = row['Table_Title']\n",
    "        base_title = row['Base_title']\n",
    "        loop_header1 = row.get('Loop_Header1', None)\n",
    "        loop_header2 = row.get('Loop_Header2', None)\n",
    "        loop_slice_name = row['Loop_Slice_Name']\n",
    "\n",
    "        # Initialize loop_syntax string\n",
    "        loop_syntax = f\"'--- {var_name}\\n\"\n",
    "\n",
    "        # Single-level loop\n",
    "        if pd.notna(loop_header1) and pd.isna(loop_header2):\n",
    "            loop_syntax += f\"fnAddGrid(TableDoc,\\\"{loop_header1}[..].{loop_slice_name}\\\",\\\"{loop_header1} '{table_title}'\\\",\\\"({qn_no}) {table_title}\\\",\\\"{base_title}\\\")\\n\"\n",
    "            loop_syntax += f\"For each i in MDM.Fields[\\\"{loop_header1}\\\"].categories\\n\"\n",
    "            loop_syntax += f\"\\tfnAddTable(TableDoc,\\\"{loop_header1}[{{\\\"+i.name+\\\"}}].{loop_slice_name}\\\",banner,\\\"({qn_no}) {table_title} - \\\" + i.label,\\\"{base_title}\\\")\\n\"\n",
    "            loop_syntax += f\"\\t.Item[.count-1].Rules.Addnew(0,0)\\n\"\n",
    "            loop_syntax += \"next\\n\"\n",
    "\n",
    "        # Two-level loop\n",
    "        elif pd.notna(loop_header1) and pd.notna(loop_header2):\n",
    "            loop_syntax += f\"fnAddGrid(TableDoc,\\\"{loop_header1}[..].{loop_header2}[..].{loop_slice_name}\\\",\\\"{loop_header1} > {loop_header1}[..].{loop_header2} '{table_title}'\\\",\\\"({qn_no}) {table_title}\\\",\\\"{base_title}\\\")\\n\"\n",
    "            loop_syntax += f\"For each i in MDM.Fields[\\\"{loop_header1}\\\"].categories\\n\"\n",
    "            loop_syntax += f\"\\tFor each j in MDM.Fields[\\\"{loop_header1}[{{\\\"+i.name+\\\"}}].{loop_header2}\\\"].categories\\n\"\n",
    "            loop_syntax += f\"\\t\\tfnAddTable(TableDoc,\\\"{loop_header1}[{{\\\"+i.name+\\\"}}].{loop_header2}[{{\\\"+j.name+\\\"}}].{loop_slice_name}\\\",banner,\\\"({qn_no}) {table_title} - \\\" + i.label + \\\" - \\\" + j.label,\\\"{base_title}\\\")\\n\"\n",
    "            loop_syntax += f\"\\t\\t.Item[.count-1].Rules.Addnew(0,0)\\n\"\n",
    "            loop_syntax += \"\\tnext\\n\"\n",
    "            loop_syntax += \"next\\n\"\n",
    "\n",
    "        return loop_syntax\n",
    "\n",
    "# Assuming df_loop is the DataFrame containing only loop variables\n",
    "# Uncomment the line below to apply the function.\n",
    "df['Loop_Syntax_Fixed'] = df.apply(generate_loop_syntax_fixed, axis=1)\n",
    "\n",
    "# Sample output for the first 5 rows\n",
    "# df.head()\n",
    "\n"
   ]
  },
  {
   "cell_type": "code",
   "execution_count": 75,
   "id": "761a00d4-195e-4251-9713-19495755a6e9",
   "metadata": {
    "tags": []
   },
   "outputs": [],
   "source": [
    "# Sample code to fix the issue with NaN loop_header being included in the syntax\n",
    "\n",
    "def generate_loop_syntax_fixed_v2(row):\n",
    "\n",
    "    if row['Is_Loop']:  # Check if it's not a loop\n",
    "        var_name = row['Var_name']\n",
    "        qn_no = row['QN_No']\n",
    "        table_title = row['Table_Title']\n",
    "        base_title = row['Base_title']\n",
    "        loop_header1 = row.get('Loop_Header1', None)\n",
    "        loop_header2 = row.get('Loop_Header2', None)\n",
    "        loop_slice_name = row['Loop_Slice_Name']\n",
    "\n",
    "        # Initialize loop_syntax string\n",
    "        loop_syntax = f\"'--- {var_name}\\n\"\n",
    "\n",
    "        # Single-level loop\n",
    "        if pd.notna(loop_header1) and pd.isna(loop_header2):\n",
    "            loop_syntax += f\"fnAddGrid(TableDoc,\\\"{loop_header1}[..].{loop_slice_name}\\\",\\\"{loop_header1} '{table_title}'\\\",\\\"({qn_no}) {table_title} - Summary\\\",\\\"{base_title}\\\")\\n\"\n",
    "            loop_syntax += f\"For each i in MDM.Fields[\\\"{loop_header1}\\\"].categories\\n\"\n",
    "            loop_syntax += f\"\\tfnAddTable(TableDoc,\\\"{loop_header1}[{{\\\" + i.name + \\\"}}].{loop_slice_name}\\\",banner,\\\"({qn_no}) {table_title} - \\\" + i.label,\\\"{base_title}\\\")\\n\"\n",
    "            loop_syntax += f\"\\t.Item[.count-1].Rules.Addnew(0,0)\\n\"\n",
    "            loop_syntax += \"next\\n\"\n",
    "\n",
    "        # Two-level loop\n",
    "        elif pd.notna(loop_header1) and pd.notna(loop_header2):\n",
    "            loop_syntax += f\"For each i in MDM.Fields[\\\"{loop_header1}\\\"].categories\\n\"\n",
    "            #summary tables\n",
    "            loop_syntax += f\"\\tfnAddGrid(TableDoc,\\\"\"\n",
    "            loop_syntax += f\"{loop_header1}[{{\\\" + i.name + \\\"}}].{loop_header2}[..].{loop_slice_name} {{..,sigma \\'Total\\' subtotal()}}\\\",\"\n",
    "            #banner\n",
    "            loop_syntax += f\"\\\"{loop_header1}[{{\\\" + i.name + \\\"}}].{loop_header2} '{table_title}'\\\",\"\n",
    "            #table title, base title\n",
    "            loop_syntax += f\"\\\"({qn_no}) {table_title} - Summary - \\\" + i.label + \\\"\\\",\\\"{base_title}\\\")\\n\"\n",
    "            loop_syntax += f\"\\t.Item[.count-1].Rules.Addnew(0,1) 'supress blank column\\n\"\n",
    "            loop_syntax += f\"\\t.Item[.count-1].Rules.Addnew(0,0) 'supress blank row \\n\"\n",
    "            # loop_syntax += f\"\\t\"\n",
    "            \n",
    "            #individual tables\n",
    "            loop_syntax += f\"\\t'For each j in MDM.Fields[\\\"{loop_header1}[{{\\\" + i.name + \\\"}}].{loop_header2}\\\"].categories\\n\"\n",
    "            # loop_syntax += f\"\\t\"\n",
    "            loop_syntax += f\"\\t\\t'fnAddTable(TableDoc,\\\"{loop_header1}[{{\\\" + i.name + \\\"}}].{loop_header2}[{{\\\" + j.name + \\\"}}].{loop_slice_name} {{..,sigma \\'Total\\' subtotal()}}\\\",banner,\\\"({qn_no}) {table_title} - \\\" + i.label + \\\" - \\\" + j.label,\\\"{base_title}\\\")\\n\"\n",
    "            loop_syntax += f\"\\t\\t'.Item[.count-1].Rules.Addnew(0,0)\\n\"\n",
    "            loop_syntax += \"\\t'next\\n\"\n",
    "            loop_syntax += \"next\\n\"\n",
    "\n",
    "        return loop_syntax\n",
    "\n",
    "# Assuming df_loop is the DataFrame containing only loop variables\n",
    "# Uncomment the line below to apply the function.\n",
    "df['Loop_Syntax_v2'] = df.apply(generate_loop_syntax_fixed_v2, axis=1)\n",
    "\n",
    "# Sample output for the first 5 rows\n",
    "# df.head()\n",
    "\n"
   ]
  },
  {
   "cell_type": "code",
   "execution_count": 71,
   "id": "380c4eb8-1dad-44a3-9993-cfcd1c5c4177",
   "metadata": {
    "tags": []
   },
   "outputs": [],
   "source": [
    "def generate_manip_syntax_readable(row):\n",
    "    var_name = row['Var_name']\n",
    "    qn_no = row['QN_No']\n",
    "    table_title = row['Table_Title']\n",
    "    \n",
    "    # Common patterns\n",
    "    sb_title_text = f\"sbSetTitleText(MDM,\\\"{var_name}\\\",\\\"Analysis\\\",LOCALE,\\\"({qn_no}) {table_title}\\\")\"\n",
    "    sb_axis_default = f\"sbSetAxisExpression(MDM,\\\"{var_name}\\\",\\\"{{..,sigma 'Total' subtotal()}}\\\")\"\n",
    "    sb_axis_exp_mean = f\"sbSetAxisExpression(MDM,\\\"{var_name}\\\",\\\"{{..,sigma 'Total' subtotal(),mean 'Mean' mean() [decimals=2]}}\\\")\"\n",
    "    sb_avg_mention = f\"sbAddAverageEndorsementsToAxis(MDM,\\\"{var_name}\\\",\\\"\\\",\\\"Avg. No of Mentions\\\",false,\\\"2\\\")\"\n",
    "    \n",
    "    # Initialize the manip_syntax\n",
    "    manip_syntax = f\"'--- {var_name}\\n\"\n",
    "    manip_syntax += f\"\\t{sb_title_text}\\n\"\n",
    "\n",
    "    # No elements\n",
    "    # if row['Mean'] is None and row['Avg_Mention'] is None:\n",
    "    manip_syntax += f\"\\t{sb_axis_default}\\n\"\n",
    "        \n",
    "    # Mean condition\n",
    "    if row['Mean'] == 'x':\n",
    "        # Re-initialize the manip_syntax\n",
    "        manip_syntax = f\"'--- {var_name}\\n\"\n",
    "        manip_syntax += f\"\\t{sb_title_text}\\n\"\n",
    "        manip_syntax += f\"\\t{sb_axis_exp_mean}\\n\"\n",
    "\n",
    "    # Avg_Mention condition\n",
    "    if row['Avg_Mention'] == 'x':\n",
    "        # Re-initialize the manip_syntax\n",
    "        manip_syntax = f\"'--- {var_name}\\n\"\n",
    "        manip_syntax += f\"\\t{sb_title_text}\\n\"\n",
    "        manip_syntax += f\"\\t{sb_avg_mention}\\n\"\n",
    "\n",
    "    # Both elements\n",
    "    if row['Mean'] == 'x' and row['Avg_Mention'] == 'x':\n",
    "        # Re-initialize the manip_syntax\n",
    "        manip_syntax = f\"'--- {var_name}\\n\"\n",
    "        manip_syntax += f\"\\t{sb_title_text}\\n\"\n",
    "        manip_syntax += f\"\\t{sb_axis_exp_mean}\\n\"\n",
    "        manip_syntax += f\"\\t{sb_avg_mention}\\n\"\n",
    "        \n",
    "    return manip_syntax\n",
    "\n",
    "# Uncomment the line below to apply the function.\n",
    "df['Manip_Syntax_Readable'] = df.apply(generate_manip_syntax_readable, axis=1)\n"
   ]
  },
  {
   "cell_type": "code",
   "execution_count": 72,
   "id": "a01fa9b6-e657-4ff9-b09b-621053e71b00",
   "metadata": {
    "tags": []
   },
   "outputs": [],
   "source": [
    "def generate_manip_syntax_readable(row):\n",
    "    var_name = row['Var_name']\n",
    "    qn_no = row['QN_No']\n",
    "    table_title = row['Table_Title']\n",
    "    \n",
    "    # Common patterns\n",
    "    sb_title_text = f\"sbSetTitleText(MDM,\\\"{var_name}\\\",\\\"Analysis\\\",LOCALE,\\\"({qn_no}) {table_title}\\\")\"\n",
    "    sb_axis_default = f\"sbSetAxisExpression(MDM,\\\"{var_name}\\\",\\\"{{..,sigma 'Total' subtotal()}}\\\")\"\n",
    "    sb_axis_exp_mean = f\"sbSetAxisExpression(MDM,\\\"{var_name}\\\",\\\"{{..,sigma 'Total' subtotal(),mean 'Mean' mean() [decimals=2]}}\\\")\"\n",
    "    sb_avg_mention = f\"sbAddAverageEndorsementsToAxis(MDM,\\\"{var_name}\\\",\\\"\\\",\\\"Avg. No of Mentions\\\",false,\\\"2\\\")\"\n",
    "    \n",
    "    # Initialize the manip_syntax\n",
    "    manip_syntax = f\"'--- {var_name}\\n\"\n",
    "    manip_syntax += f\"\\t{sb_title_text}\\n\"\n",
    "\n",
    "    # No elements\n",
    "    # if row['Mean'] is None and row['Avg_Mention'] is None:\n",
    "    manip_syntax += f\"\\t{sb_axis_default}\\n\"\n",
    "        \n",
    "    # Mean condition\n",
    "    if row['Mean'] == 'x':\n",
    "        # Re-initialize the manip_syntax\n",
    "        manip_syntax = f\"'--- {var_name}\\n\"\n",
    "        manip_syntax += f\"\\t{sb_title_text}\\n\"\n",
    "        manip_syntax += f\"\\t{sb_axis_exp_mean}\\n\"\n",
    "\n",
    "    # Avg_Mention condition\n",
    "    if row['Avg_Mention'] == 'x':\n",
    "        # Re-initialize the manip_syntax\n",
    "        manip_syntax = f\"'--- {var_name}\\n\"\n",
    "        manip_syntax += f\"\\t{sb_title_text}\\n\"\n",
    "        manip_syntax += f\"\\t{sb_avg_mention}\\n\"\n",
    "\n",
    "    # Both elements\n",
    "    if row['Mean'] == 'x' and row['Avg_Mention'] == 'x':\n",
    "        # Re-initialize the manip_syntax\n",
    "        manip_syntax = f\"'--- {var_name}\\n\"\n",
    "        manip_syntax += f\"\\t{sb_title_text}\\n\"\n",
    "        manip_syntax += f\"\\t{sb_axis_exp_mean}\\n\"\n",
    "        manip_syntax += f\"\\t{sb_avg_mention}\\n\"\n",
    "        \n",
    "    return manip_syntax\n",
    "\n",
    "# Uncomment the line below to apply the function.\n",
    "df['Manip_Syntax_Readable'] = df.apply(generate_manip_syntax_readable, axis=1)\n"
   ]
  },
  {
   "cell_type": "code",
   "execution_count": 76,
   "id": "670b83b2-05a5-4af4-9119-4b9ca44fa293",
   "metadata": {
    "tags": []
   },
   "outputs": [],
   "source": [
    "non_loop_v2_df = df[df['Non_Loop_Syntax_v2'].notna()]\n",
    "\n",
    "# Write the 'Non_Loop_Syntax' column to a text file\n",
    "with open('non_loop_syntax_v2.txt', 'w') as f:\n",
    "    for syntax in non_loop_v2_df['Non_Loop_Syntax_v2']:\n",
    "        f.write(f\"{syntax}\\n\\n\")\n",
    "        \n",
    "# Filter out rows where Non_Loop_Syntax is not None (meaning it has generated syntax)\n",
    "Loop_v2_df = df[df['Loop_Syntax_v2'].notna()]\n",
    "\n",
    "with open('Loop_Syntax_v2.txt', 'w') as f:\n",
    "    for syntax in Loop_v2_df['Loop_Syntax_v2']:\n",
    "        f.write(f\"{syntax}\\n\\n\")"
   ]
  },
  {
   "cell_type": "code",
   "execution_count": 77,
   "id": "1bb2470f-e5ec-4f49-9825-0f9c9ca924e5",
   "metadata": {
    "tags": []
   },
   "outputs": [],
   "source": [
    "# Function to combine the syntax\n",
    "def combine_syntax(row):\n",
    "    non_loop = row.get('Non_Loop_Syntax', '')\n",
    "    loop = row.get('Loop_Syntax_v2', '')\n",
    "    \n",
    "    if non_loop and loop:\n",
    "        return f\"{non_loop}\\n{loop}\"\n",
    "    elif non_loop:\n",
    "        return non_loop\n",
    "    elif loop:\n",
    "        return loop\n",
    "    else:\n",
    "        return None\n",
    "\n",
    "# Applying the function to combine the syntax\n",
    "df['Combined_Syntax'] = df.apply(combine_syntax, axis=1)\n",
    "# df.head(10)"
   ]
  },
  {
   "cell_type": "code",
   "execution_count": 36,
   "id": "07fa4ef7-b088-49d7-aba7-ebd0436d21ea",
   "metadata": {
    "tags": []
   },
   "outputs": [],
   "source": [
    "# Filter out rows where Non_Loop_Syntax is not None (meaning it has generated syntax)\n",
    "non_loop_df = df[df['Non_Loop_Syntax'].notna()]\n",
    "\n",
    "# Write the 'Non_Loop_Syntax' column to a text file\n",
    "with open('non_loop_syntax.txt', 'w') as f:\n",
    "    for syntax in non_loop_df['Non_Loop_Syntax']:\n",
    "        f.write(f\"{syntax}\\n\\n\")\n",
    "        \n",
    "# Filter out rows where Non_Loop_Syntax is not None (meaning it has generated syntax)\n",
    "non_loop_manip_df = df[df['Manip_Syntax_Readable'].notna()]\n",
    "\n",
    "# Write the 'Non_Loop_Syntax' column to a text file\n",
    "with open('Manip_Syntax.txt', 'w') as f:\n",
    "    for syntax in non_loop_manip_df['Manip_Syntax_Readable']:\n",
    "        f.write(f\"{syntax}\\n\\n\")\n",
    "        \n",
    "# Filter out rows where Non_Loop_Syntax is not None (meaning it has generated syntax)\n",
    "Loop_df = df[df['Loop_Syntax_Fixed'].notna()]\n",
    "\n",
    "with open('Loop_Syntax_Fixed.txt', 'w') as f:\n",
    "    for syntax in Loop_df['Loop_Syntax_Fixed']:\n",
    "        f.write(f\"{syntax}\\n\\n\")\n",
    "\n",
    "\n",
    "var_df = df[df['Variable Name'].notna()]\n",
    "# Write the 'Non_Loop_Syntax' column to a text file\n",
    "with open('Combined_Syntax.txt', 'w') as f:\n",
    "    for syntax in var_df['Combined_Syntax']:\n",
    "        f.write(f\"{syntax}\\n\\n\")\n"
   ]
  },
  {
   "cell_type": "code",
   "execution_count": null,
   "id": "882bd08c-72bf-4fc2-887e-df3aa26fc477",
   "metadata": {
    "tags": []
   },
   "outputs": [],
   "source": [
    "# Filter DataFrame for loop variables\n",
    "filtered_df = df[df['Is_Loop'] == True]\n",
    "\n",
    "# Select specific columns\n",
    "filtered_df = filtered_df[['Var_name', 'QN_No', 'Parsed_Info_Absolute', 'Is_Loop']]\n",
    "\n",
    "# Convert the DataFrame to a CSV string for preview\n",
    "csv_preview = filtered_df.head(30).to_csv(index=False)\n",
    "\n",
    "print(csv_preview)"
   ]
  },
  {
   "cell_type": "code",
   "execution_count": null,
   "id": "acfbcdb0-ccca-4339-8860-555e5f174147",
   "metadata": {
    "tags": []
   },
   "outputs": [],
   "source": [
    "print(filtered_df.head(10))"
   ]
  },
  {
   "cell_type": "code",
   "execution_count": null,
   "id": "4ebd14e9-35e1-462b-89d8-64daa820e54b",
   "metadata": {},
   "outputs": [],
   "source": []
  }
 ],
 "metadata": {
  "kernelspec": {
   "display_name": "Python 3 (ipykernel)",
   "language": "python",
   "name": "python3"
  },
  "language_info": {
   "codemirror_mode": {
    "name": "ipython",
    "version": 3
   },
   "file_extension": ".py",
   "mimetype": "text/x-python",
   "name": "python",
   "nbconvert_exporter": "python",
   "pygments_lexer": "ipython3",
   "version": "3.11.5"
  }
 },
 "nbformat": 4,
 "nbformat_minor": 5
}
